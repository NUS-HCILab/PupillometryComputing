{
 "cells": [
  {
   "cell_type": "markdown",
   "id": "f908e093",
   "metadata": {},
   "source": [
    "## Pupil Player: Analysis of pupil data"
   ]
  },
  {
   "cell_type": "markdown",
   "id": "01236bb9",
   "metadata": {},
   "source": [
    "### Reference"
   ]
  },
  {
   "cell_type": "markdown",
   "id": "02944d3b",
   "metadata": {},
   "source": [
    "This is referenced from https://pyplr.github.io/cvd_pupillometry/04d_analysis.html  \\\n",
    "This is a python software for researching the pupillary light reflex, ideal data source: pupil labs'.  \\\n",
    "Developpers are using self developed/encapsulated packages."
   ]
  },
  {
   "cell_type": "markdown",
   "id": "2da80f93",
   "metadata": {},
   "source": [
    "### Export with Pupil Player"
   ]
  },
  {
   "cell_type": "code",
   "execution_count": 1,
   "id": "785f2d76",
   "metadata": {},
   "outputs": [],
   "source": [
    "from pyplr import utils\n",
    "# Pupil Labs recording directory\n",
    "rec_dir = '/Users/jtm/OneDrive - Nexus365/protocols/pipr_protocol/JTM'\n",
    "utils.print_file_structure(rec_dir)"
   ]
  },
  {
   "cell_type": "markdown",
   "id": "20961cd2",
   "metadata": {},
   "source": [
    "### Load exported data"
   ]
  },
  {
   "cell_type": "code",
   "execution_count": 2,
   "id": "72d4f7dc",
   "metadata": {},
   "outputs": [
    {
     "ename": "FileNotFoundError",
     "evalue": "\"/Users/jtm/OneDrive - Nexus365/protocols/pipr_protocol/JTM\" does not appear to exist.",
     "output_type": "error",
     "traceback": [
      "\u001b[1;31m---------------------------------------------------------------------------\u001b[0m",
      "\u001b[1;31mFileNotFoundError\u001b[0m                         Traceback (most recent call last)",
      "\u001b[1;32m<ipython-input-2-8d6d0048dcbb>\u001b[0m in \u001b[0;36m<module>\u001b[1;34m\u001b[0m\n\u001b[0;32m      8\u001b[0m \u001b[1;33m\u001b[0m\u001b[0m\n\u001b[0;32m      9\u001b[0m \u001b[1;31m# Get a handle on a subject\u001b[0m\u001b[1;33m\u001b[0m\u001b[1;33m\u001b[0m\u001b[1;33m\u001b[0m\u001b[0m\n\u001b[1;32m---> 10\u001b[1;33m s = utils.new_subject(\n\u001b[0m\u001b[0;32m     11\u001b[0m     rec_dir, export='000', out_dir_nm='pyplr_analysis')\n\u001b[0;32m     12\u001b[0m \u001b[1;33m\u001b[0m\u001b[0m\n",
      "\u001b[1;32mD:\\Users\\91584\\anaconda3\\lib\\site-packages\\pyplr\\utils.py\u001b[0m in \u001b[0;36mnew_subject\u001b[1;34m(rec_dir, export, out_dir_nm)\u001b[0m\n\u001b[0;32m     49\u001b[0m     \"\"\"\n\u001b[0;32m     50\u001b[0m     \u001b[1;32mif\u001b[0m \u001b[1;32mnot\u001b[0m \u001b[0mop\u001b[0m\u001b[1;33m.\u001b[0m\u001b[0misdir\u001b[0m\u001b[1;33m(\u001b[0m\u001b[0mrec_dir\u001b[0m\u001b[1;33m)\u001b[0m\u001b[1;33m:\u001b[0m\u001b[1;33m\u001b[0m\u001b[1;33m\u001b[0m\u001b[0m\n\u001b[1;32m---> 51\u001b[1;33m         raise FileNotFoundError(\n\u001b[0m\u001b[0;32m     52\u001b[0m             '\"{}\" does not appear to exist.'.format(rec_dir))\n\u001b[0;32m     53\u001b[0m     \u001b[0mroot\u001b[0m \u001b[1;33m=\u001b[0m \u001b[0mop\u001b[0m\u001b[1;33m.\u001b[0m\u001b[0mabspath\u001b[0m\u001b[1;33m(\u001b[0m\u001b[0mrec_dir\u001b[0m\u001b[1;33m)\u001b[0m\u001b[1;33m\u001b[0m\u001b[1;33m\u001b[0m\u001b[0m\n",
      "\u001b[1;31mFileNotFoundError\u001b[0m: \"/Users/jtm/OneDrive - Nexus365/protocols/pipr_protocol/JTM\" does not appear to exist."
     ]
    }
   ],
   "source": [
    "# Columns to load\n",
    "use_cols = ['confidence',\n",
    "            'method',\n",
    "            'pupil_timestamp',\n",
    "            'eye_id',\n",
    "            'diameter_3d',\n",
    "            'diameter']\n",
    "\n",
    "# Get a handle on a subject\n",
    "s = utils.new_subject(\n",
    "    rec_dir, export='000', out_dir_nm='pyplr_analysis')\n",
    "\n",
    "# Load pupil data\n",
    "samples = utils.load_pupil(\n",
    "    s['data_dir'], eye_id='best', cols=use_cols)\n",
    "samples"
   ]
  },
  {
   "cell_type": "markdown",
   "id": "2e488724",
   "metadata": {},
   "source": [
    "### Preprocessing"
   ]
  },
  {
   "cell_type": "code",
   "execution_count": null,
   "id": "11058778",
   "metadata": {},
   "outputs": [],
   "source": [
    "from pyplr import graphing\n",
    "from pyplr import preproc\n",
    "\n",
    "# Sampling frequency\n",
    "SAMPLE_RATE = 120\n",
    "\n",
    "# Pupil columns to analyse\n",
    "pupil_cols = ['diameter_3d', 'diameter']\n",
    "\n",
    "# Make figure for processing\n",
    "f, axs = graphing.pupil_preprocessing(nrows=5, subject='Example')\n",
    "\n",
    "# Plot the raw data\n",
    "samples[pupil_cols].plot(title='Raw', ax=axs[0], legend=True)\n",
    "axs[0].legend(loc='center right', labels=['mm', 'pixels'])\n",
    "\n",
    "# Mask first derivative\n",
    "samples = preproc.mask_pupil_first_derivative(\n",
    "    samples, threshold=3.0, mask_cols=pupil_cols)\n",
    "samples[pupil_cols].plot(\n",
    "    title='Masked 1st deriv (3*SD)', ax=axs[1], legend=False)\n",
    "\n",
    "# Mask confidence\n",
    "samples = preproc.mask_pupil_confidence(\n",
    "    samples, threshold=0.8, mask_cols=pupil_cols)\n",
    "samples[pupil_cols].plot(\n",
    "    title='Masked confidence (<0.8)', ax=axs[2], legend=False)\n",
    "\n",
    "# Interpolate\n",
    "samples = preproc.interpolate_pupil(\n",
    "    samples, interp_cols=pupil_cols)\n",
    "samples[pupil_cols].plot(\n",
    "    title='Linear interpolation', ax=axs[3], legend=False)\n",
    "\n",
    "# Smooth\n",
    "samples = preproc.butterworth_series(\n",
    "    samples, fields=pupil_cols, filt_order=3,\n",
    "    cutoff_freq=4/(SAMPLE_RATE/2))\n",
    "samples[pupil_cols].plot(\n",
    "    title='3rd order Butterworth filter with 4 Hz cut-off',\n",
    "    ax=axs[4], legend=False);"
   ]
  },
  {
   "cell_type": "markdown",
   "id": "aefd2cdf",
   "metadata": {},
   "source": [
    "### Extraction"
   ]
  },
  {
   "cell_type": "code",
   "execution_count": null,
   "id": "81889c13",
   "metadata": {},
   "outputs": [],
   "source": [
    "events = utils.load_annotations(s['data_dir'])\n",
    "events"
   ]
  },
  {
   "cell_type": "code",
   "execution_count": null,
   "id": "367b1418",
   "metadata": {},
   "outputs": [],
   "source": [
    "# Number of samples to extract and which sample\n",
    "# should mark the onset of the event\n",
    "DURATION = 7800\n",
    "ONSET_IDX = 600\n",
    "\n",
    "# Extract the event ranges\n",
    "ranges = utils.extract(\n",
    "    samples,\n",
    "    events,\n",
    "    offset=-ONSET_IDX,\n",
    "    duration=DURATION,\n",
    "    borrow_attributes=['color'])\n",
    "ranges"
   ]
  },
  {
   "cell_type": "code",
   "execution_count": null,
   "id": "40a42f5f",
   "metadata": {},
   "outputs": [],
   "source": [
    "# Calculate baselines\n",
    "baselines = ranges.loc[:, range(0, ONSET_IDX), :].mean(level=0)\n",
    "\n",
    "# New columns for percent signal change\n",
    "ranges = preproc.percent_signal_change(\n",
    "    ranges, baselines, pupil_cols)\n",
    "ranges"
   ]
  },
  {
   "cell_type": "markdown",
   "id": "485251a9",
   "metadata": {},
   "source": [
    "### Plotting and parametrisation"
   ]
  },
  {
   "cell_type": "code",
   "execution_count": null,
   "id": "ce9ab7cf",
   "metadata": {},
   "outputs": [],
   "source": [
    "from pyplr.plr import PLR\n",
    "\n",
    "average_plr = ranges.mean(level=1)['diameter_3d'].to_numpy()\n",
    "plr = PLR(average_plr,\n",
    "          sample_rate=SAMPLE_RATE,\n",
    "          onset_idx=ONSET_IDX,\n",
    "          stim_duration=1)"
   ]
  },
  {
   "cell_type": "code",
   "execution_count": null,
   "id": "e74d84e1",
   "metadata": {},
   "outputs": [],
   "source": [
    "fig = plr.plot(vel=True, acc=True, print_params=True)"
   ]
  },
  {
   "cell_type": "code",
   "execution_count": null,
   "id": "9f977162",
   "metadata": {},
   "outputs": [],
   "source": [
    "params = plr.parameters()\n",
    "params"
   ]
  }
 ],
 "metadata": {
  "kernelspec": {
   "display_name": "Python 3 (ipykernel)",
   "language": "python",
   "name": "python3"
  },
  "language_info": {
   "codemirror_mode": {
    "name": "ipython",
    "version": 3
   },
   "file_extension": ".py",
   "mimetype": "text/x-python",
   "name": "python",
   "nbconvert_exporter": "python",
   "pygments_lexer": "ipython3",
   "version": "3.9.12"
  }
 },
 "nbformat": 4,
 "nbformat_minor": 5
}
