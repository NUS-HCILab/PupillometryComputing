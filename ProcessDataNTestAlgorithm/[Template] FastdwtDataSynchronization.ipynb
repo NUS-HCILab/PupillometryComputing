{
 "cells": [
  {
   "cell_type": "markdown",
   "id": "615b6004",
   "metadata": {},
   "source": [
    "## Two eyes' data synchronization fastdtw\n",
    "### Reference\n",
    "1. How to Synchroniza Time Series Datasets in Python. https://towardsdatascience.com/how-to-synchronize-time-series-datasets-in-python-f2ae51bee212."
   ]
  },
  {
   "cell_type": "markdown",
   "id": "52989d65",
   "metadata": {},
   "source": [
    "### Implementation"
   ]
  },
  {
   "cell_type": "code",
   "execution_count": 1,
   "id": "a3883f6f",
   "metadata": {},
   "outputs": [],
   "source": [
    "import numpy as np\n",
    "import pandas as pd\n",
    "import streamlit as st\n",
    "import plotly.express as px\n",
    "from sklearn.metrics import r2_score\n",
    "from scipy.spatial.distance import euclidean\n",
    "from fastdtw import fastdtw"
   ]
  },
  {
   "cell_type": "code",
   "execution_count": 2,
   "id": "e1a5784b",
   "metadata": {},
   "outputs": [],
   "source": [
    "df = pd.read_csv('fastdtw_dataset.csv')\n",
    "df['Power'] = pd.to_numeric(df['Power'],errors='coerce')\n",
    "df['Voltage'] = pd.to_numeric(df['Voltage'],errors='coerce')\n",
    "x = np.array(df['Power'].fillna(0))\n",
    "y = np.array(df['Voltage'].fillna(0))"
   ]
  },
  {
   "cell_type": "code",
   "execution_count": 3,
   "id": "ca820167",
   "metadata": {},
   "outputs": [],
   "source": [
    "distance, path = fastdtw(x, y, dist=euclidean)\n",
    "# The path reture a 2-D arrays where each elements represents the original index and the closest index of the target's data."
   ]
  },
  {
   "cell_type": "code",
   "execution_count": 4,
   "id": "6cd6a404",
   "metadata": {},
   "outputs": [],
   "source": [
    "result = []\n",
    "for i in range(0,len(path)):\n",
    "    result.append([df['DateTime'].iloc[path[i][0]],\n",
    "                   df['Power'].iloc[path[i][0]],\n",
    "                   df['Voltage'].iloc[path[i][1]]])\n",
    "df_sync = pd.DataFrame(data=result,columns=['DateTime','Power','Voltage']).dropna()\n",
    "df_sync = df_sync.drop_duplicates(subset=['DateTime'])\n",
    "df_sync = df_sync.sort_values(by='DateTime')\n",
    "df_sync = df_sync.reset_index(drop=True)\n",
    "df_sync.to_csv('synchronized_dataset.csv',index=False)"
   ]
  },
  {
   "cell_type": "code",
   "execution_count": 5,
   "id": "e349cce0",
   "metadata": {},
   "outputs": [
    {
     "data": {
      "text/plain": [
       "-0.8229381351283807"
      ]
     },
     "execution_count": 5,
     "metadata": {},
     "output_type": "execute_result"
    }
   ],
   "source": [
    "correlation = r2_score(x, y) # x, y are free from NA values compared to original dataframe.\n",
    "correlation"
   ]
  },
  {
   "cell_type": "code",
   "execution_count": 6,
   "id": "8d286ae7",
   "metadata": {},
   "outputs": [
    {
     "data": {
      "text/plain": [
       "0.7239870188449561"
      ]
     },
     "execution_count": 6,
     "metadata": {},
     "output_type": "execute_result"
    }
   ],
   "source": [
    "correlation = r2_score(df_sync['Power'], df_sync['Voltage'])\n",
    "correlation"
   ]
  },
  {
   "cell_type": "code",
   "execution_count": 7,
   "id": "ed8e9579",
   "metadata": {},
   "outputs": [
    {
     "name": "stdout",
     "output_type": "stream",
     "text": [
      "# of original Power:  368\n",
      "# of original Voltage:  368\n",
      "# of original x:  368\n",
      "# of original y:  368\n",
      "# of original path:  462\n",
      "# of original result:  462\n",
      "# of synchronized Power:  366\n",
      "# of synchronized Voltage:  366\n"
     ]
    }
   ],
   "source": [
    "# Check the number of each dataset.\n",
    "print('# of original Power: ', len(df['Power']))\n",
    "print('# of original Voltage: ', len(df['Voltage']))\n",
    "print('# of original x: ', len(x))\n",
    "print('# of original y: ', len(y))\n",
    "print('# of original path: ', len(path))\n",
    "print('# of original result: ', len(result))\n",
    "print('# of synchronized Power: ', len(df_sync['Power']))\n",
    "print('# of synchronized Voltage: ', len(df_sync['Voltage']))"
   ]
  },
  {
   "cell_type": "code",
   "execution_count": null,
   "id": "32572e38",
   "metadata": {},
   "outputs": [],
   "source": []
  }
 ],
 "metadata": {
  "kernelspec": {
   "display_name": "Python 3 (ipykernel)",
   "language": "python",
   "name": "python3"
  },
  "language_info": {
   "codemirror_mode": {
    "name": "ipython",
    "version": 3
   },
   "file_extension": ".py",
   "mimetype": "text/x-python",
   "name": "python",
   "nbconvert_exporter": "python",
   "pygments_lexer": "ipython3",
   "version": "3.9.12"
  }
 },
 "nbformat": 4,
 "nbformat_minor": 5
}
